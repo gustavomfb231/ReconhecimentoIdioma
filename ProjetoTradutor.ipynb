{
 "cells": [
  {
   "cell_type": "code",
   "execution_count": 87,
   "id": "2e62b31d-01c5-4aab-8cce-770e09179a5b",
   "metadata": {
    "tags": []
   },
   "outputs": [],
   "source": [
    "import pandas as pd\n",
    "import re\n",
    "from nltk import bigrams\n",
    "from nltk.lm.preprocessing import pad_both_ends\n",
    "from sklearn.model_selection import train_test_split\n",
    "from nltk.lm.preprocessing import padded_everygram_pipeline\n",
    "from nltk.lm import MLE,Laplace\n",
    "from nltk.lm import NgramCounter\n",
    "import nltk"
   ]
  },
  {
   "cell_type": "code",
   "execution_count": null,
   "id": "d93e877e-407c-4e45-bc5e-0e556a7dafbd",
   "metadata": {
    "tags": []
   },
   "outputs": [],
   "source": [
    "nltk.download(\"all\")"
   ]
  },
  {
   "cell_type": "code",
   "execution_count": 2,
   "id": "489adef5-1d69-4a50-a7dd-f19c47ee02a1",
   "metadata": {
    "tags": []
   },
   "outputs": [
    {
     "data": {
      "text/html": [
       "<div>\n",
       "<style scoped>\n",
       "    .dataframe tbody tr th:only-of-type {\n",
       "        vertical-align: middle;\n",
       "    }\n",
       "\n",
       "    .dataframe tbody tr th {\n",
       "        vertical-align: top;\n",
       "    }\n",
       "\n",
       "    .dataframe thead th {\n",
       "        text-align: right;\n",
       "    }\n",
       "</style>\n",
       "<table border=\"1\" class=\"dataframe\">\n",
       "  <thead>\n",
       "    <tr style=\"text-align: right;\">\n",
       "      <th></th>\n",
       "      <th>Id</th>\n",
       "      <th>Título</th>\n",
       "      <th>Questão</th>\n",
       "      <th>Tags</th>\n",
       "      <th>Pontuação</th>\n",
       "      <th>Visualizações</th>\n",
       "    </tr>\n",
       "  </thead>\n",
       "  <tbody>\n",
       "    <tr>\n",
       "      <th>0</th>\n",
       "      <td>2402</td>\n",
       "      <td>Como fazer hash de senhas de forma segura?</td>\n",
       "      <td>&lt;p&gt;Se eu fizer o &lt;em&gt;&lt;a href=\"http://pt.wikipe...</td>\n",
       "      <td>&lt;hash&gt;&lt;segurança&gt;&lt;senhas&gt;&lt;criptografia&gt;</td>\n",
       "      <td>350</td>\n",
       "      <td>22367</td>\n",
       "    </tr>\n",
       "    <tr>\n",
       "      <th>1</th>\n",
       "      <td>6441</td>\n",
       "      <td>Qual é a diferença entre INNER JOIN e OUTER JOIN?</td>\n",
       "      <td>&lt;p&gt;Qual é a diferença entre &lt;code&gt;INNER JOIN&lt;/...</td>\n",
       "      <td>&lt;sql&gt;&lt;join&gt;</td>\n",
       "      <td>276</td>\n",
       "      <td>176953</td>\n",
       "    </tr>\n",
       "    <tr>\n",
       "      <th>2</th>\n",
       "      <td>579</td>\n",
       "      <td>Por que não devemos usar funções do tipo mysql_*?</td>\n",
       "      <td>&lt;p&gt;Uma dúvida muito comum é por que devemos pa...</td>\n",
       "      <td>&lt;php&gt;&lt;mysql&gt;</td>\n",
       "      <td>226</td>\n",
       "      <td>9761</td>\n",
       "    </tr>\n",
       "    <tr>\n",
       "      <th>3</th>\n",
       "      <td>2539</td>\n",
       "      <td>As mensagens de erro devem se desculpar?</td>\n",
       "      <td>&lt;p&gt;É comum encontrar uma mensagem de erro que ...</td>\n",
       "      <td>&lt;aplicação-web&gt;&lt;gui&gt;&lt;console&gt;&lt;ux&gt;</td>\n",
       "      <td>214</td>\n",
       "      <td>5075</td>\n",
       "    </tr>\n",
       "    <tr>\n",
       "      <th>4</th>\n",
       "      <td>17501</td>\n",
       "      <td>Qual é a diferença de API, biblioteca e Framew...</td>\n",
       "      <td>&lt;p&gt;Me parecem termos muito próximos e eventual...</td>\n",
       "      <td>&lt;api&gt;&lt;framework&gt;&lt;terminologia&gt;&lt;biblioteca&gt;</td>\n",
       "      <td>193</td>\n",
       "      <td>54191</td>\n",
       "    </tr>\n",
       "  </tbody>\n",
       "</table>\n",
       "</div>"
      ],
      "text/plain": [
       "      Id                                             Título  \\\n",
       "0   2402         Como fazer hash de senhas de forma segura?   \n",
       "1   6441  Qual é a diferença entre INNER JOIN e OUTER JOIN?   \n",
       "2    579  Por que não devemos usar funções do tipo mysql_*?   \n",
       "3   2539           As mensagens de erro devem se desculpar?   \n",
       "4  17501  Qual é a diferença de API, biblioteca e Framew...   \n",
       "\n",
       "                                             Questão  \\\n",
       "0  <p>Se eu fizer o <em><a href=\"http://pt.wikipe...   \n",
       "1  <p>Qual é a diferença entre <code>INNER JOIN</...   \n",
       "2  <p>Uma dúvida muito comum é por que devemos pa...   \n",
       "3  <p>É comum encontrar uma mensagem de erro que ...   \n",
       "4  <p>Me parecem termos muito próximos e eventual...   \n",
       "\n",
       "                                         Tags  Pontuação  Visualizações  \n",
       "0     <hash><segurança><senhas><criptografia>        350          22367  \n",
       "1                                 <sql><join>        276         176953  \n",
       "2                                <php><mysql>        226           9761  \n",
       "3           <aplicação-web><gui><console><ux>        214           5075  \n",
       "4  <api><framework><terminologia><biblioteca>        193          54191  "
      ]
     },
     "execution_count": 2,
     "metadata": {},
     "output_type": "execute_result"
    }
   ],
   "source": [
    "dados_portugues = pd.read_csv(\"/Users/gustavobrandao/Downloads/stackoverflow_portugues.csv\")\n",
    "dados_portugues.head()"
   ]
  },
  {
   "cell_type": "code",
   "execution_count": 3,
   "id": "f73359f0-e541-4201-a88c-70bba9e475eb",
   "metadata": {
    "tags": []
   },
   "outputs": [
    {
     "data": {
      "text/html": [
       "<div>\n",
       "<style scoped>\n",
       "    .dataframe tbody tr th:only-of-type {\n",
       "        vertical-align: middle;\n",
       "    }\n",
       "\n",
       "    .dataframe tbody tr th {\n",
       "        vertical-align: top;\n",
       "    }\n",
       "\n",
       "    .dataframe thead th {\n",
       "        text-align: right;\n",
       "    }\n",
       "</style>\n",
       "<table border=\"1\" class=\"dataframe\">\n",
       "  <thead>\n",
       "    <tr style=\"text-align: right;\">\n",
       "      <th></th>\n",
       "      <th>Id</th>\n",
       "      <th>Título</th>\n",
       "      <th>Questão</th>\n",
       "      <th>Tags</th>\n",
       "      <th>Pontuação</th>\n",
       "      <th>Visualizações</th>\n",
       "    </tr>\n",
       "  </thead>\n",
       "  <tbody>\n",
       "    <tr>\n",
       "      <th>0</th>\n",
       "      <td>11227809</td>\n",
       "      <td>Why is it faster to process a sorted array tha...</td>\n",
       "      <td>&lt;p&gt;Here is a piece of C++ code that seems very...</td>\n",
       "      <td>&lt;java&gt;&lt;c++&gt;&lt;performance&gt;&lt;optimization&gt;&lt;branch-...</td>\n",
       "      <td>23057</td>\n",
       "      <td>1358574</td>\n",
       "    </tr>\n",
       "    <tr>\n",
       "      <th>1</th>\n",
       "      <td>927358</td>\n",
       "      <td>How do I undo the most recent local commits in...</td>\n",
       "      <td>&lt;p&gt;I accidentally committed the wrong files to...</td>\n",
       "      <td>&lt;git&gt;&lt;version-control&gt;&lt;git-commit&gt;&lt;undo&gt;</td>\n",
       "      <td>19640</td>\n",
       "      <td>7906137</td>\n",
       "    </tr>\n",
       "    <tr>\n",
       "      <th>2</th>\n",
       "      <td>2003505</td>\n",
       "      <td>How do I delete a Git branch locally and remot...</td>\n",
       "      <td>&lt;p&gt;I want to delete a branch both locally and ...</td>\n",
       "      <td>&lt;git&gt;&lt;git-branch&gt;&lt;git-remote&gt;</td>\n",
       "      <td>15249</td>\n",
       "      <td>6940906</td>\n",
       "    </tr>\n",
       "    <tr>\n",
       "      <th>3</th>\n",
       "      <td>292357</td>\n",
       "      <td>What is the difference between 'git pull' and ...</td>\n",
       "      <td>&lt;blockquote&gt;\\n  &lt;p&gt;&lt;strong&gt;Moderator Note:&lt;/st...</td>\n",
       "      <td>&lt;git&gt;&lt;git-pull&gt;&lt;git-fetch&gt;</td>\n",
       "      <td>11008</td>\n",
       "      <td>2543052</td>\n",
       "    </tr>\n",
       "    <tr>\n",
       "      <th>4</th>\n",
       "      <td>477816</td>\n",
       "      <td>What is the correct JSON content type?</td>\n",
       "      <td>&lt;p&gt;I've been messing around with &lt;a href=\"http...</td>\n",
       "      <td>&lt;json&gt;&lt;http-headers&gt;&lt;content-type&gt;</td>\n",
       "      <td>9701</td>\n",
       "      <td>2478940</td>\n",
       "    </tr>\n",
       "  </tbody>\n",
       "</table>\n",
       "</div>"
      ],
      "text/plain": [
       "         Id                                             Título  \\\n",
       "0  11227809  Why is it faster to process a sorted array tha...   \n",
       "1    927358  How do I undo the most recent local commits in...   \n",
       "2   2003505  How do I delete a Git branch locally and remot...   \n",
       "3    292357  What is the difference between 'git pull' and ...   \n",
       "4    477816             What is the correct JSON content type?   \n",
       "\n",
       "                                             Questão  \\\n",
       "0  <p>Here is a piece of C++ code that seems very...   \n",
       "1  <p>I accidentally committed the wrong files to...   \n",
       "2  <p>I want to delete a branch both locally and ...   \n",
       "3  <blockquote>\\n  <p><strong>Moderator Note:</st...   \n",
       "4  <p>I've been messing around with <a href=\"http...   \n",
       "\n",
       "                                                Tags  Pontuação  Visualizações  \n",
       "0  <java><c++><performance><optimization><branch-...      23057        1358574  \n",
       "1           <git><version-control><git-commit><undo>      19640        7906137  \n",
       "2                      <git><git-branch><git-remote>      15249        6940906  \n",
       "3                         <git><git-pull><git-fetch>      11008        2543052  \n",
       "4                 <json><http-headers><content-type>       9701        2478940  "
      ]
     },
     "execution_count": 3,
     "metadata": {},
     "output_type": "execute_result"
    }
   ],
   "source": [
    "dados_ingles = pd.read_csv(\"/Users/gustavobrandao/Downloads/stackoverflow_ingles.csv\")\n",
    "dados_ingles.head()"
   ]
  },
  {
   "cell_type": "code",
   "execution_count": 4,
   "id": "346a91fc-e128-4e03-a732-5b40770e9c6f",
   "metadata": {
    "tags": []
   },
   "outputs": [
    {
     "data": {
      "text/html": [
       "<div>\n",
       "<style scoped>\n",
       "    .dataframe tbody tr th:only-of-type {\n",
       "        vertical-align: middle;\n",
       "    }\n",
       "\n",
       "    .dataframe tbody tr th {\n",
       "        vertical-align: top;\n",
       "    }\n",
       "\n",
       "    .dataframe thead th {\n",
       "        text-align: right;\n",
       "    }\n",
       "</style>\n",
       "<table border=\"1\" class=\"dataframe\">\n",
       "  <thead>\n",
       "    <tr style=\"text-align: right;\">\n",
       "      <th></th>\n",
       "      <th>Id</th>\n",
       "      <th>Título</th>\n",
       "      <th>Questão</th>\n",
       "      <th>Tags</th>\n",
       "      <th>Pontuação</th>\n",
       "      <th>Visualizações</th>\n",
       "    </tr>\n",
       "  </thead>\n",
       "  <tbody>\n",
       "    <tr>\n",
       "      <th>0</th>\n",
       "      <td>18232</td>\n",
       "      <td>¿Cómo evitar la inyección SQL en PHP?</td>\n",
       "      <td>&lt;p&gt;Las sentencias dinámicas son sentencias SQL...</td>\n",
       "      <td>&lt;php&gt;&lt;mysql&gt;&lt;sql&gt;&lt;seguridad&gt;&lt;inyección-sql&gt;</td>\n",
       "      <td>169</td>\n",
       "      <td>38614</td>\n",
       "    </tr>\n",
       "    <tr>\n",
       "      <th>1</th>\n",
       "      <td>197</td>\n",
       "      <td>¿Por qué mis programas no pueden hacer cálculo...</td>\n",
       "      <td>&lt;p&gt;Unas veces los cálculos funcionan correctam...</td>\n",
       "      <td>&lt;matemáticas&gt;&lt;coma-flotante&gt;&lt;lenguaje-agnóstico&gt;</td>\n",
       "      <td>141</td>\n",
       "      <td>3860</td>\n",
       "    </tr>\n",
       "    <tr>\n",
       "      <th>2</th>\n",
       "      <td>36</td>\n",
       "      <td>¿Cuál es la diferencia entre un inner y un out...</td>\n",
       "      <td>&lt;p&gt;¿Cuál es la diferencia entre un &lt;code&gt;inner...</td>\n",
       "      <td>&lt;mysql&gt;&lt;sql&gt;&lt;join&gt;</td>\n",
       "      <td>97</td>\n",
       "      <td>53627</td>\n",
       "    </tr>\n",
       "    <tr>\n",
       "      <th>3</th>\n",
       "      <td>29177</td>\n",
       "      <td>¿Por qué es considerado una mala práctica util...</td>\n",
       "      <td>&lt;p&gt;La mayoría de nosotros decimos, (muchas vec...</td>\n",
       "      <td>&lt;variables&gt;&lt;variables-globales&gt;&lt;patrones-de-di...</td>\n",
       "      <td>89</td>\n",
       "      <td>9987</td>\n",
       "    </tr>\n",
       "    <tr>\n",
       "      <th>4</th>\n",
       "      <td>142</td>\n",
       "      <td>Validar un email en JavaScript que acepte todo...</td>\n",
       "      <td>&lt;h3&gt;Pregunta&lt;/h3&gt;\\n\\n&lt;p&gt;¿Cómo validar un e-mai...</td>\n",
       "      <td>&lt;javascript&gt;&lt;validación&gt;&lt;email&gt;&lt;regex&gt;</td>\n",
       "      <td>87</td>\n",
       "      <td>73129</td>\n",
       "    </tr>\n",
       "  </tbody>\n",
       "</table>\n",
       "</div>"
      ],
      "text/plain": [
       "      Id                                             Título  \\\n",
       "0  18232              ¿Cómo evitar la inyección SQL en PHP?   \n",
       "1    197  ¿Por qué mis programas no pueden hacer cálculo...   \n",
       "2     36  ¿Cuál es la diferencia entre un inner y un out...   \n",
       "3  29177  ¿Por qué es considerado una mala práctica util...   \n",
       "4    142  Validar un email en JavaScript que acepte todo...   \n",
       "\n",
       "                                             Questão  \\\n",
       "0  <p>Las sentencias dinámicas son sentencias SQL...   \n",
       "1  <p>Unas veces los cálculos funcionan correctam...   \n",
       "2  <p>¿Cuál es la diferencia entre un <code>inner...   \n",
       "3  <p>La mayoría de nosotros decimos, (muchas vec...   \n",
       "4  <h3>Pregunta</h3>\\n\\n<p>¿Cómo validar un e-mai...   \n",
       "\n",
       "                                                Tags  Pontuação  Visualizações  \n",
       "0        <php><mysql><sql><seguridad><inyección-sql>        169          38614  \n",
       "1   <matemáticas><coma-flotante><lenguaje-agnóstico>        141           3860  \n",
       "2                                 <mysql><sql><join>         97          53627  \n",
       "3  <variables><variables-globales><patrones-de-di...         89           9987  \n",
       "4             <javascript><validación><email><regex>         87          73129  "
      ]
     },
     "execution_count": 4,
     "metadata": {},
     "output_type": "execute_result"
    }
   ],
   "source": [
    "dados_espanhol = pd.read_csv(\"/Users/gustavobrandao/Downloads/stackoverflow_espanhol.csv\")\n",
    "dados_espanhol.head()"
   ]
  },
  {
   "cell_type": "code",
   "execution_count": 5,
   "id": "afda5018-f17a-44e9-a8b8-2fe70486fdd3",
   "metadata": {
    "tags": []
   },
   "outputs": [
    {
     "data": {
      "text/plain": [
       "['<p>',\n",
       " '<em>',\n",
       " '<a href=\"http://pt.wikipedia.org/wiki/Fun%C3%A7%C3%A3o_de_embaralhamento_criptogr%C3%A1fico\" rel=\"noreferrer\">',\n",
       " '</a>',\n",
       " '</em>',\n",
       " '</p>',\n",
       " '<p>',\n",
       " '<a href=\"http://pt.wikipedia.org/wiki/Ataque_de_for%C3%A7a_bruta\" rel=\"noreferrer\">',\n",
       " '</a>',\n",
       " '<em>',\n",
       " '<a href=\"http://pt.wikipedia.org/wiki/Keylogger\" rel=\"noreferrer\">',\n",
       " '</a>',\n",
       " '</em>',\n",
       " '<a href=\"http://pt.wikipedia.org/wiki/Criptoan%C3%A1lise_de_mangueira_de_borracha\" rel=\"noreferrer\">',\n",
       " '<em>',\n",
       " '</em>',\n",
       " '</a>',\n",
       " '<em>',\n",
       " '</em>',\n",
       " '</p>',\n",
       " '<p>',\n",
       " '</p>',\n",
       " '<p>',\n",
       " '<em>',\n",
       " '</em>',\n",
       " '</p>']"
      ]
     },
     "execution_count": 5,
     "metadata": {},
     "output_type": "execute_result"
    }
   ],
   "source": [
    "#Usando Regex para encontrar as tags html nos textos\n",
    "questao_portugues = dados_portugues.Questão[0]\n",
    "tags = re.findall(\"<.*?>\",questao_portugues)\n",
    "tags"
   ]
  },
  {
   "cell_type": "code",
   "execution_count": 6,
   "id": "e161d994-e292-4c36-b8bb-07bb94f8edbf",
   "metadata": {
    "tags": []
   },
   "outputs": [
    {
     "data": {
      "text/plain": [
       "'Se eu fizer o hash de senhas antes de armazená-las em meu banco de dados é suficiente para evitar que elas sejam recuperadas por alguém?Estou falando apenas da recuperação diretamente do banco de dados e não qualquer outro tipo de ataque, como força bruta na página de login da aplicação, keylogger no cliente e criptoanálise rubberhose. Qualquer forma de hash não vai impedir esses ataques.Tenho preocupação em dificultar ou até impossibilitar a obtenção das senhas originais caso o banco de dados seja comprometido. Como dar maior garantia de segurança neste aspecto?Quais preocupações adicionais evitariam o acesso às senhas? Existem formas melhores de fazer esse hash?'"
      ]
     },
     "execution_count": 6,
     "metadata": {},
     "output_type": "execute_result"
    }
   ],
   "source": [
    "#Tratando a frase\n",
    "questao_portugues_v2 = re.sub(\"<.*?>\",\"\",questao_portugues)\n",
    "questao_portugues_v3 = re.sub(r\"\\n\",\"\",questao_portugues_v2)\n",
    "questao_portugues_v3"
   ]
  },
  {
   "cell_type": "code",
   "execution_count": 7,
   "id": "c10b8f55-4325-4826-94c0-cfa14d92d25f",
   "metadata": {
    "tags": []
   },
   "outputs": [
    {
     "data": {
      "text/plain": [
       "<re.Match object; span=(0, 3), match='<p>'>"
      ]
     },
     "execution_count": 7,
     "metadata": {},
     "output_type": "execute_result"
    }
   ],
   "source": [
    "regex = re.compile(r\"<p>\")\n",
    "regex.search(questao_portugues)"
   ]
  },
  {
   "cell_type": "code",
   "execution_count": 8,
   "id": "8481f407-22f3-44d2-a618-024829bf3a70",
   "metadata": {},
   "outputs": [
    {
     "name": "stdout",
     "output_type": "stream",
     "text": [
      "Se eu fizer o hash de senhas antes de armazená-las em meu banco de dados é suficiente para evitar que elas sejam recuperadas por alguém?\n",
      "\n",
      "Estou falando apenas da recuperação diretamente do banco de dados e não qualquer outro tipo de ataque, como força bruta na página de login da aplicação, keylogger no cliente e criptoanálise rubberhose. Qualquer forma de hash não vai impedir esses ataques.\n",
      "\n",
      "Tenho preocupação em dificultar ou até impossibilitar a obtenção das senhas originais caso o banco de dados seja comprometido. Como dar maior garantia de segurança neste aspecto?\n",
      "\n",
      "Quais preocupações adicionais evitariam o acesso às senhas? Existem formas melhores de fazer esse hash?\n",
      "\n"
     ]
    }
   ],
   "source": [
    "def remove_texto(textos,regex):\n",
    "    if type(textos) == str:\n",
    "        texto_sem_tag = regex.sub(\"\",textos)\n",
    "        return texto_sem_tag\n",
    "    else:\n",
    "        return [regex.sub(\"\",texto) for texto in textos]\n",
    "regex = re.compile(\"<.*?>\")\n",
    "print(remove_texto(questao_portugues,regex))"
   ]
  },
  {
   "cell_type": "code",
   "execution_count": 9,
   "id": "149808b5-2b2c-44e4-aa0c-1a745fb539d6",
   "metadata": {
    "tags": []
   },
   "outputs": [
    {
     "data": {
      "text/plain": [
       "'<p>Here is a piece of C++ code that seems very peculiar. For some strange reason, sorting the data miraculously makes the code almost six times faster.</p>\\n\\n<pre class=\"lang-cpp prettyprint-override\"><code>#include &lt;algorithm&gt;\\n#include &lt;ctime&gt;\\n#include &lt;iostream&gt;\\n\\nint main()\\n{\\n    // Generate data\\n    const unsigned arraySize = 32768;\\n    int data[arraySize];\\n\\n    for (unsigned c = 0; c &lt; arraySize; ++c)\\n        data[c] = std::rand() % 256;\\n\\n    // !!! With this, the next loop runs faster\\n    std::sort(data, data + arraySize);\\n\\n    // Test\\n    clock_t start = clock();\\n    long long sum = 0;\\n\\n    for (unsigned i = 0; i &lt; 100000; ++i)\\n    {\\n        // Primary loop\\n        for (unsigned c = 0; c &lt; arraySize; ++c)\\n        {\\n            if (data[c] &gt;= 128)\\n                sum += data[c];\\n        }\\n    }\\n\\n    double elapsedTime = static_cast&lt;double&gt;(clock() - start) / CLOCKS_PER_SEC;\\n\\n    std::cout &lt;&lt; elapsedTime &lt;&lt; std::endl;\\n    std::cout &lt;&lt; \"sum = \" &lt;&lt; sum &lt;&lt; std::endl;\\n}\\n</code></pre>\\n\\n<ul>\\n<li>Without <code>std::sort(data, data + arraySize);</code>, the code runs in 11.54 seconds.</li>\\n<li>With the sorted data, the code runs in 1.93 seconds.</li>\\n</ul>\\n\\n<p>Initially, I thought this might be just a language or compiler anomaly. So I tried it in Java.</p>\\n\\n<pre class=\"lang-java prettyprint-override\"><code>import java.util.Arrays;\\nimport java.util.Random;\\n\\npublic class Main\\n{\\n    public static void main(String[] args)\\n    {\\n        // Generate data\\n        int arraySize = 32768;\\n        int data[] = new int[arraySize];\\n\\n        Random rnd = new Random(0);\\n        for (int c = 0; c &lt; arraySize; ++c)\\n            data[c] = rnd.nextInt() % 256;\\n\\n        // !!! With this, the next loop runs faster\\n        Arrays.sort(data);\\n\\n        // Test\\n        long start = System.nanoTime();\\n        long sum = 0;\\n\\n        for (int i = 0; i &lt; 100000; ++i)\\n        {\\n            // Primary loop\\n            for (int c = 0; c &lt; arraySize; ++c)\\n            {\\n                if (data[c] &gt;= 128)\\n                    sum += data[c];\\n            }\\n        }\\n\\n        System.out.println((System.nanoTime() - start) / 1000000000.0);\\n        System.out.println(\"sum = \" + sum);\\n    }\\n}\\n</code></pre>\\n\\n<p>With a somewhat similar but less extreme result.</p>\\n\\n<hr>\\n\\n<p>My first thought was that sorting brings the data into the cache, but then I thought how silly that is because the array was just generated.</p>\\n\\n<ul>\\n<li>What is going on?</li>\\n<li>Why is it faster to process a sorted array than an unsorted array?</li>\\n<li>The code is summing up some independent terms, and the order should not matter.</li>\\n</ul>\\n'"
      ]
     },
     "execution_count": 9,
     "metadata": {},
     "output_type": "execute_result"
    }
   ],
   "source": [
    "questao_ingles = dados_ingles.Questão[0]\n",
    "questao_ingles"
   ]
  },
  {
   "cell_type": "code",
   "execution_count": 10,
   "id": "11687352-cf42-4198-be1e-aca3e39d8126",
   "metadata": {
    "tags": []
   },
   "outputs": [
    {
     "name": "stdout",
     "output_type": "stream",
     "text": [
      "<p>Here is a piece of C++ code that seems very peculiar. For some strange reason, sorting the data miraculously makes the code almost six times faster.</p>\n",
      "\n",
      "<pre class=\"lang-cpp prettyprint-override\"></pre>\n",
      "\n",
      "<ul>\n",
      "<li>Without , the code runs in 11.54 seconds.</li>\n",
      "<li>With the sorted data, the code runs in 1.93 seconds.</li>\n",
      "</ul>\n",
      "\n",
      "<p>Initially, I thought this might be just a language or compiler anomaly. So I tried it in Java.</p>\n",
      "\n",
      "<pre class=\"lang-java prettyprint-override\"></pre>\n",
      "\n",
      "<p>With a somewhat similar but less extreme result.</p>\n",
      "\n",
      "<hr>\n",
      "\n",
      "<p>My first thought was that sorting brings the data into the cache, but then I thought how silly that is because the array was just generated.</p>\n",
      "\n",
      "<ul>\n",
      "<li>What is going on?</li>\n",
      "<li>Why is it faster to process a sorted array than an unsorted array?</li>\n",
      "<li>The code is summing up some independent terms, and the order should not matter.</li>\n",
      "</ul>\n",
      "\n"
     ]
    }
   ],
   "source": [
    "#Removendo os códigos com substituição por regex\n",
    "regex = regex = re.compile(\"<code>(.|(\\n))*?</code>\")\n",
    "print(remove_texto(questao_ingles,regex))"
   ]
  },
  {
   "cell_type": "code",
   "execution_count": 11,
   "id": "97473762-183b-4b01-81ae-581aef2afc8e",
   "metadata": {
    "tags": []
   },
   "outputs": [
    {
     "data": {
      "text/plain": [
       "'<p>Se eu fizer o <em><a href=\"http://pt.wikipedia.org/wiki/Fun%C3%A7%C3%A3o_de_embaralhamento_criptogr%C3%A1fico\" rel=\"noreferrer\">hash</a></em> de senhas antes de armazená-las em meu banco de dados é suficiente para evitar que elas sejam recuperadas por alguém?</p>\\n\\n<p>Estou falando apenas da recuperação diretamente do banco de dados e não qualquer outro tipo de ataque, como <a href=\"http://pt.wikipedia.org/wiki/Ataque_de_for%C3%A7a_bruta\" rel=\"noreferrer\">força bruta</a> na página de login da aplicação, <em><a href=\"http://pt.wikipedia.org/wiki/Keylogger\" rel=\"noreferrer\">keylogger</a></em> no cliente e <a href=\"http://pt.wikipedia.org/wiki/Criptoan%C3%A1lise_de_mangueira_de_borracha\" rel=\"noreferrer\">criptoanálise <em>rubberhose</em></a>. Qualquer forma de <em>hash</em> não vai impedir esses ataques.</p>\\n\\n<p>Tenho preocupação em dificultar ou até impossibilitar a obtenção das senhas originais caso o banco de dados seja comprometido. Como dar maior garantia de segurança neste aspecto?</p>\\n\\n<p>Quais preocupações adicionais evitariam o acesso às senhas? Existem formas melhores de fazer esse <em>hash</em>?</p>\\n'"
      ]
     },
     "execution_count": 11,
     "metadata": {},
     "output_type": "execute_result"
    }
   ],
   "source": [
    "questao_portugues"
   ]
  },
  {
   "cell_type": "code",
   "execution_count": 12,
   "id": "c0428274-d2f5-4a81-b0af-56bc06662ecf",
   "metadata": {
    "tags": []
   },
   "outputs": [
    {
     "data": {
      "text/html": [
       "<div>\n",
       "<style scoped>\n",
       "    .dataframe tbody tr th:only-of-type {\n",
       "        vertical-align: middle;\n",
       "    }\n",
       "\n",
       "    .dataframe tbody tr th {\n",
       "        vertical-align: top;\n",
       "    }\n",
       "\n",
       "    .dataframe thead th {\n",
       "        text-align: right;\n",
       "    }\n",
       "</style>\n",
       "<table border=\"1\" class=\"dataframe\">\n",
       "  <thead>\n",
       "    <tr style=\"text-align: right;\">\n",
       "      <th></th>\n",
       "      <th>Id</th>\n",
       "      <th>Título</th>\n",
       "      <th>Questão</th>\n",
       "      <th>Tags</th>\n",
       "      <th>Pontuação</th>\n",
       "      <th>Visualizações</th>\n",
       "      <th>Pos_tratamento</th>\n",
       "    </tr>\n",
       "  </thead>\n",
       "  <tbody>\n",
       "    <tr>\n",
       "      <th>0</th>\n",
       "      <td>2402</td>\n",
       "      <td>Como fazer hash de senhas de forma segura?</td>\n",
       "      <td>&lt;p&gt;Se eu fizer o &lt;em&gt;&lt;a href=\"http://pt.wikipe...</td>\n",
       "      <td>&lt;hash&gt;&lt;segurança&gt;&lt;senhas&gt;&lt;criptografia&gt;</td>\n",
       "      <td>350</td>\n",
       "      <td>22367</td>\n",
       "      <td>Se eu fizer o hash de senhas antes de armazená...</td>\n",
       "    </tr>\n",
       "    <tr>\n",
       "      <th>1</th>\n",
       "      <td>6441</td>\n",
       "      <td>Qual é a diferença entre INNER JOIN e OUTER JOIN?</td>\n",
       "      <td>&lt;p&gt;Qual é a diferença entre &lt;code&gt;INNER JOIN&lt;/...</td>\n",
       "      <td>&lt;sql&gt;&lt;join&gt;</td>\n",
       "      <td>276</td>\n",
       "      <td>176953</td>\n",
       "      <td>Qual é a diferença entre  e ? Podem me dar alg...</td>\n",
       "    </tr>\n",
       "    <tr>\n",
       "      <th>2</th>\n",
       "      <td>579</td>\n",
       "      <td>Por que não devemos usar funções do tipo mysql_*?</td>\n",
       "      <td>&lt;p&gt;Uma dúvida muito comum é por que devemos pa...</td>\n",
       "      <td>&lt;php&gt;&lt;mysql&gt;</td>\n",
       "      <td>226</td>\n",
       "      <td>9761</td>\n",
       "      <td>Uma dúvida muito comum é por que devemos parar...</td>\n",
       "    </tr>\n",
       "    <tr>\n",
       "      <th>3</th>\n",
       "      <td>2539</td>\n",
       "      <td>As mensagens de erro devem se desculpar?</td>\n",
       "      <td>&lt;p&gt;É comum encontrar uma mensagem de erro que ...</td>\n",
       "      <td>&lt;aplicação-web&gt;&lt;gui&gt;&lt;console&gt;&lt;ux&gt;</td>\n",
       "      <td>214</td>\n",
       "      <td>5075</td>\n",
       "      <td>É comum encontrar uma mensagem de erro que diz...</td>\n",
       "    </tr>\n",
       "    <tr>\n",
       "      <th>4</th>\n",
       "      <td>17501</td>\n",
       "      <td>Qual é a diferença de API, biblioteca e Framew...</td>\n",
       "      <td>&lt;p&gt;Me parecem termos muito próximos e eventual...</td>\n",
       "      <td>&lt;api&gt;&lt;framework&gt;&lt;terminologia&gt;&lt;biblioteca&gt;</td>\n",
       "      <td>193</td>\n",
       "      <td>54191</td>\n",
       "      <td>Me parecem termos muito próximos e eventualmen...</td>\n",
       "    </tr>\n",
       "  </tbody>\n",
       "</table>\n",
       "</div>"
      ],
      "text/plain": [
       "      Id                                             Título  \\\n",
       "0   2402         Como fazer hash de senhas de forma segura?   \n",
       "1   6441  Qual é a diferença entre INNER JOIN e OUTER JOIN?   \n",
       "2    579  Por que não devemos usar funções do tipo mysql_*?   \n",
       "3   2539           As mensagens de erro devem se desculpar?   \n",
       "4  17501  Qual é a diferença de API, biblioteca e Framew...   \n",
       "\n",
       "                                             Questão  \\\n",
       "0  <p>Se eu fizer o <em><a href=\"http://pt.wikipe...   \n",
       "1  <p>Qual é a diferença entre <code>INNER JOIN</...   \n",
       "2  <p>Uma dúvida muito comum é por que devemos pa...   \n",
       "3  <p>É comum encontrar uma mensagem de erro que ...   \n",
       "4  <p>Me parecem termos muito próximos e eventual...   \n",
       "\n",
       "                                         Tags  Pontuação  Visualizações  \\\n",
       "0     <hash><segurança><senhas><criptografia>        350          22367   \n",
       "1                                 <sql><join>        276         176953   \n",
       "2                                <php><mysql>        226           9761   \n",
       "3           <aplicação-web><gui><console><ux>        214           5075   \n",
       "4  <api><framework><terminologia><biblioteca>        193          54191   \n",
       "\n",
       "                                      Pos_tratamento  \n",
       "0  Se eu fizer o hash de senhas antes de armazená...  \n",
       "1  Qual é a diferença entre  e ? Podem me dar alg...  \n",
       "2  Uma dúvida muito comum é por que devemos parar...  \n",
       "3  É comum encontrar uma mensagem de erro que diz...  \n",
       "4  Me parecem termos muito próximos e eventualmen...  "
      ]
     },
     "execution_count": 12,
     "metadata": {},
     "output_type": "execute_result"
    }
   ],
   "source": [
    "#Retirando trechos de código e tags html para questões em português\n",
    "regex_nocode = re.compile(\"<code>(.|(\\n))*?</code>\")\n",
    "dados_pt_nocode = [remove_texto(texto,regex_nocode) for texto in dados_portugues.Questão]\n",
    "regex_html = re.compile(\"<.*?>\")\n",
    "dados_portugues[\"Pos_tratamento\"] = [remove_texto(texto,regex_html) for texto in dados_pt_nocode]\n",
    "dados_portugues.head()"
   ]
  },
  {
   "cell_type": "code",
   "execution_count": 13,
   "id": "edea78bf-f2ed-4998-9fba-cc4fd8de2acf",
   "metadata": {
    "tags": []
   },
   "outputs": [
    {
     "data": {
      "text/html": [
       "<div>\n",
       "<style scoped>\n",
       "    .dataframe tbody tr th:only-of-type {\n",
       "        vertical-align: middle;\n",
       "    }\n",
       "\n",
       "    .dataframe tbody tr th {\n",
       "        vertical-align: top;\n",
       "    }\n",
       "\n",
       "    .dataframe thead th {\n",
       "        text-align: right;\n",
       "    }\n",
       "</style>\n",
       "<table border=\"1\" class=\"dataframe\">\n",
       "  <thead>\n",
       "    <tr style=\"text-align: right;\">\n",
       "      <th></th>\n",
       "      <th>Id</th>\n",
       "      <th>Título</th>\n",
       "      <th>Questão</th>\n",
       "      <th>Tags</th>\n",
       "      <th>Pontuação</th>\n",
       "      <th>Visualizações</th>\n",
       "      <th>Pos_tratamento</th>\n",
       "    </tr>\n",
       "  </thead>\n",
       "  <tbody>\n",
       "    <tr>\n",
       "      <th>0</th>\n",
       "      <td>18232</td>\n",
       "      <td>¿Cómo evitar la inyección SQL en PHP?</td>\n",
       "      <td>&lt;p&gt;Las sentencias dinámicas son sentencias SQL...</td>\n",
       "      <td>&lt;php&gt;&lt;mysql&gt;&lt;sql&gt;&lt;seguridad&gt;&lt;inyección-sql&gt;</td>\n",
       "      <td>169</td>\n",
       "      <td>38614</td>\n",
       "      <td>Las sentencias dinámicas son sentencias SQL qu...</td>\n",
       "    </tr>\n",
       "    <tr>\n",
       "      <th>1</th>\n",
       "      <td>197</td>\n",
       "      <td>¿Por qué mis programas no pueden hacer cálculo...</td>\n",
       "      <td>&lt;p&gt;Unas veces los cálculos funcionan correctam...</td>\n",
       "      <td>&lt;matemáticas&gt;&lt;coma-flotante&gt;&lt;lenguaje-agnóstico&gt;</td>\n",
       "      <td>141</td>\n",
       "      <td>3860</td>\n",
       "      <td>Unas veces los cálculos funcionan correctament...</td>\n",
       "    </tr>\n",
       "    <tr>\n",
       "      <th>2</th>\n",
       "      <td>36</td>\n",
       "      <td>¿Cuál es la diferencia entre un inner y un out...</td>\n",
       "      <td>&lt;p&gt;¿Cuál es la diferencia entre un &lt;code&gt;inner...</td>\n",
       "      <td>&lt;mysql&gt;&lt;sql&gt;&lt;join&gt;</td>\n",
       "      <td>97</td>\n",
       "      <td>53627</td>\n",
       "      <td>¿Cuál es la diferencia entre un  y un ?\\n\\nY ¿...</td>\n",
       "    </tr>\n",
       "    <tr>\n",
       "      <th>3</th>\n",
       "      <td>29177</td>\n",
       "      <td>¿Por qué es considerado una mala práctica util...</td>\n",
       "      <td>&lt;p&gt;La mayoría de nosotros decimos, (muchas vec...</td>\n",
       "      <td>&lt;variables&gt;&lt;variables-globales&gt;&lt;patrones-de-di...</td>\n",
       "      <td>89</td>\n",
       "      <td>9987</td>\n",
       "      <td>La mayoría de nosotros decimos, (muchas veces ...</td>\n",
       "    </tr>\n",
       "    <tr>\n",
       "      <th>4</th>\n",
       "      <td>142</td>\n",
       "      <td>Validar un email en JavaScript que acepte todo...</td>\n",
       "      <td>&lt;h3&gt;Pregunta&lt;/h3&gt;\\n\\n&lt;p&gt;¿Cómo validar un e-mai...</td>\n",
       "      <td>&lt;javascript&gt;&lt;validación&gt;&lt;email&gt;&lt;regex&gt;</td>\n",
       "      <td>87</td>\n",
       "      <td>73129</td>\n",
       "      <td>Pregunta\\n\\n¿Cómo validar un e-mail que acepte...</td>\n",
       "    </tr>\n",
       "  </tbody>\n",
       "</table>\n",
       "</div>"
      ],
      "text/plain": [
       "      Id                                             Título  \\\n",
       "0  18232              ¿Cómo evitar la inyección SQL en PHP?   \n",
       "1    197  ¿Por qué mis programas no pueden hacer cálculo...   \n",
       "2     36  ¿Cuál es la diferencia entre un inner y un out...   \n",
       "3  29177  ¿Por qué es considerado una mala práctica util...   \n",
       "4    142  Validar un email en JavaScript que acepte todo...   \n",
       "\n",
       "                                             Questão  \\\n",
       "0  <p>Las sentencias dinámicas son sentencias SQL...   \n",
       "1  <p>Unas veces los cálculos funcionan correctam...   \n",
       "2  <p>¿Cuál es la diferencia entre un <code>inner...   \n",
       "3  <p>La mayoría de nosotros decimos, (muchas vec...   \n",
       "4  <h3>Pregunta</h3>\\n\\n<p>¿Cómo validar un e-mai...   \n",
       "\n",
       "                                                Tags  Pontuação  \\\n",
       "0        <php><mysql><sql><seguridad><inyección-sql>        169   \n",
       "1   <matemáticas><coma-flotante><lenguaje-agnóstico>        141   \n",
       "2                                 <mysql><sql><join>         97   \n",
       "3  <variables><variables-globales><patrones-de-di...         89   \n",
       "4             <javascript><validación><email><regex>         87   \n",
       "\n",
       "   Visualizações                                     Pos_tratamento  \n",
       "0          38614  Las sentencias dinámicas son sentencias SQL qu...  \n",
       "1           3860  Unas veces los cálculos funcionan correctament...  \n",
       "2          53627  ¿Cuál es la diferencia entre un  y un ?\\n\\nY ¿...  \n",
       "3           9987  La mayoría de nosotros decimos, (muchas veces ...  \n",
       "4          73129  Pregunta\\n\\n¿Cómo validar un e-mail que acepte...  "
      ]
     },
     "execution_count": 13,
     "metadata": {},
     "output_type": "execute_result"
    }
   ],
   "source": [
    "#Retirando trechos de código e tags html para questões em espanhol\n",
    "regex_nocode = re.compile(\"<code>(.|(\\n))*?</code>\")\n",
    "dados_es_nocode = [remove_texto(texto,regex_nocode) for texto in dados_espanhol.Questão]\n",
    "regex_html = re.compile(\"<.*?>\")\n",
    "dados_espanhol[\"Pos_tratamento\"] = [remove_texto(texto,regex_html) for texto in dados_es_nocode]\n",
    "dados_espanhol.head()"
   ]
  },
  {
   "cell_type": "code",
   "execution_count": 14,
   "id": "4e3fc491-7b28-4fd5-b381-ae0d7d0536bf",
   "metadata": {
    "tags": []
   },
   "outputs": [
    {
     "data": {
      "text/html": [
       "<div>\n",
       "<style scoped>\n",
       "    .dataframe tbody tr th:only-of-type {\n",
       "        vertical-align: middle;\n",
       "    }\n",
       "\n",
       "    .dataframe tbody tr th {\n",
       "        vertical-align: top;\n",
       "    }\n",
       "\n",
       "    .dataframe thead th {\n",
       "        text-align: right;\n",
       "    }\n",
       "</style>\n",
       "<table border=\"1\" class=\"dataframe\">\n",
       "  <thead>\n",
       "    <tr style=\"text-align: right;\">\n",
       "      <th></th>\n",
       "      <th>Id</th>\n",
       "      <th>Título</th>\n",
       "      <th>Questão</th>\n",
       "      <th>Tags</th>\n",
       "      <th>Pontuação</th>\n",
       "      <th>Visualizações</th>\n",
       "      <th>Pos_tratamento</th>\n",
       "    </tr>\n",
       "  </thead>\n",
       "  <tbody>\n",
       "    <tr>\n",
       "      <th>0</th>\n",
       "      <td>11227809</td>\n",
       "      <td>Why is it faster to process a sorted array tha...</td>\n",
       "      <td>&lt;p&gt;Here is a piece of C++ code that seems very...</td>\n",
       "      <td>&lt;java&gt;&lt;c++&gt;&lt;performance&gt;&lt;optimization&gt;&lt;branch-...</td>\n",
       "      <td>23057</td>\n",
       "      <td>1358574</td>\n",
       "      <td>Here is a piece of C++ code that seems very pe...</td>\n",
       "    </tr>\n",
       "    <tr>\n",
       "      <th>1</th>\n",
       "      <td>927358</td>\n",
       "      <td>How do I undo the most recent local commits in...</td>\n",
       "      <td>&lt;p&gt;I accidentally committed the wrong files to...</td>\n",
       "      <td>&lt;git&gt;&lt;version-control&gt;&lt;git-commit&gt;&lt;undo&gt;</td>\n",
       "      <td>19640</td>\n",
       "      <td>7906137</td>\n",
       "      <td>I accidentally committed the wrong files to Gi...</td>\n",
       "    </tr>\n",
       "    <tr>\n",
       "      <th>2</th>\n",
       "      <td>2003505</td>\n",
       "      <td>How do I delete a Git branch locally and remot...</td>\n",
       "      <td>&lt;p&gt;I want to delete a branch both locally and ...</td>\n",
       "      <td>&lt;git&gt;&lt;git-branch&gt;&lt;git-remote&gt;</td>\n",
       "      <td>15249</td>\n",
       "      <td>6940906</td>\n",
       "      <td>I want to delete a branch both locally and rem...</td>\n",
       "    </tr>\n",
       "    <tr>\n",
       "      <th>3</th>\n",
       "      <td>292357</td>\n",
       "      <td>What is the difference between 'git pull' and ...</td>\n",
       "      <td>&lt;blockquote&gt;\\n  &lt;p&gt;&lt;strong&gt;Moderator Note:&lt;/st...</td>\n",
       "      <td>&lt;git&gt;&lt;git-pull&gt;&lt;git-fetch&gt;</td>\n",
       "      <td>11008</td>\n",
       "      <td>2543052</td>\n",
       "      <td>\\n  Moderator Note: Given that this question h...</td>\n",
       "    </tr>\n",
       "    <tr>\n",
       "      <th>4</th>\n",
       "      <td>477816</td>\n",
       "      <td>What is the correct JSON content type?</td>\n",
       "      <td>&lt;p&gt;I've been messing around with &lt;a href=\"http...</td>\n",
       "      <td>&lt;json&gt;&lt;http-headers&gt;&lt;content-type&gt;</td>\n",
       "      <td>9701</td>\n",
       "      <td>2478940</td>\n",
       "      <td>I've been messing around with JSON for some ti...</td>\n",
       "    </tr>\n",
       "  </tbody>\n",
       "</table>\n",
       "</div>"
      ],
      "text/plain": [
       "         Id                                             Título  \\\n",
       "0  11227809  Why is it faster to process a sorted array tha...   \n",
       "1    927358  How do I undo the most recent local commits in...   \n",
       "2   2003505  How do I delete a Git branch locally and remot...   \n",
       "3    292357  What is the difference between 'git pull' and ...   \n",
       "4    477816             What is the correct JSON content type?   \n",
       "\n",
       "                                             Questão  \\\n",
       "0  <p>Here is a piece of C++ code that seems very...   \n",
       "1  <p>I accidentally committed the wrong files to...   \n",
       "2  <p>I want to delete a branch both locally and ...   \n",
       "3  <blockquote>\\n  <p><strong>Moderator Note:</st...   \n",
       "4  <p>I've been messing around with <a href=\"http...   \n",
       "\n",
       "                                                Tags  Pontuação  \\\n",
       "0  <java><c++><performance><optimization><branch-...      23057   \n",
       "1           <git><version-control><git-commit><undo>      19640   \n",
       "2                      <git><git-branch><git-remote>      15249   \n",
       "3                         <git><git-pull><git-fetch>      11008   \n",
       "4                 <json><http-headers><content-type>       9701   \n",
       "\n",
       "   Visualizações                                     Pos_tratamento  \n",
       "0        1358574  Here is a piece of C++ code that seems very pe...  \n",
       "1        7906137  I accidentally committed the wrong files to Gi...  \n",
       "2        6940906  I want to delete a branch both locally and rem...  \n",
       "3        2543052  \\n  Moderator Note: Given that this question h...  \n",
       "4        2478940  I've been messing around with JSON for some ti...  "
      ]
     },
     "execution_count": 14,
     "metadata": {},
     "output_type": "execute_result"
    }
   ],
   "source": [
    "#Retirando trechos de código e tags html para questões em inglês\n",
    "regex_nocode = re.compile(\"<code>(.|(\\n))*?</code>\")\n",
    "dados_ing_nocode = [remove_texto(texto,regex_nocode) for texto in dados_ingles.Questão]\n",
    "regex_html = re.compile(\"<.*?>\")\n",
    "dados_ingles[\"Pos_tratamento\"] = [remove_texto(texto,regex_html) for texto in dados_ing_nocode]\n",
    "dados_ingles.head()"
   ]
  },
  {
   "cell_type": "code",
   "execution_count": 15,
   "id": "d58bf4ab-9054-4807-9fd6-fde76873e1fb",
   "metadata": {
    "tags": []
   },
   "outputs": [],
   "source": [
    "#Retirando pontuação \n",
    "regex_pontuacao = re.compile(\"[^\\w\\s]\")\n",
    "dados_es_tratado = regex_pontuacao.sub(\"\",dados_espanhol.Pos_tratamento[0])"
   ]
  },
  {
   "cell_type": "code",
   "execution_count": 18,
   "id": "f924c419-eb00-433b-9a2b-a01b985e36d8",
   "metadata": {
    "tags": []
   },
   "outputs": [
    {
     "name": "stdout",
     "output_type": "stream",
     "text": [
      "las sentencias dinámicas son sentencias sql que se crean como cadenas de texto strings y en las que se insertanconcatenan valores obtenidos de alguna fuente normalmente proveniente del usuario lo que puede hacer que sean vulnerables a inyección sql si no se sanean las entradas como por ejemplo\n",
      "\n",
      "\n",
      "\n",
      "eso es un ejemplo de una vulnerabilidad grave en la seguridad de una aplicación web o no porque si el usuario introdujese un valor como  nos encontraríamos con que la sentencia ejecutada sería\n",
      "\n",
      "\n",
      "\n",
      "y se eliminaría la tabla usuarios con todos los datos contenidos en ella \n",
      "\n",
      "cómo puedo evitar que la inyección sql ocurra en php\n",
      "\n"
     ]
    }
   ],
   "source": [
    "#Definindo função para deixar transformar as palavras em minúsculo e assim padroniza-las e melhorar a performance do modelo\n",
    "def minusculo(textos):\n",
    "    if type(textos) == str:\n",
    "        return textos.lower()\n",
    "    else:\n",
    "        return [texto.lower() for texto in textos]\n",
    "print(minusculo(dados_es_tratado))"
   ]
  },
  {
   "cell_type": "code",
   "execution_count": 19,
   "id": "da785520-94c3-4059-9752-71e13fecefce",
   "metadata": {
    "tags": []
   },
   "outputs": [
    {
     "data": {
      "text/plain": [
       "'Las  sentencias  dinámicas  son  sentencias  SQL  que  se  crean  como  cadenas  de  texto  strings  y  en  las  que  se  insertanconcatenan  valores  obtenidos  de  alguna  fuente  normalmente  proveniente  del  usuario  lo  que  puede  hacer  que  sean  vulnerables  a  inyección  SQL  si  no  se  sanean  las  entradas  como  por  ejemplo  Eso  es  un  ejemplo  de  una  vulnerabilidad  grave  en  la  seguridad  de  una  aplicación  web  o  no  porque  si  el  usuario  introdujese  un  valor  como  nos  encontraríamos  con  que  la  sentencia  ejecutada  sería  Y  se  eliminaría  la  tabla  Usuarios  con  todos  los  datos  contenidos  en  ella  Cómo  puedo  evitar  que  la  inyección  SQL  ocurra  en  PHP  '"
      ]
     },
     "execution_count": 19,
     "metadata": {},
     "output_type": "execute_result"
    }
   ],
   "source": [
    "#Retirando espaços duplicados\n",
    "def substitui_por_espaco(textos,regex):\n",
    "    if type(textos) == str:\n",
    "        texto_sem_espaco = regex.sub(\"  \",textos)\n",
    "        return texto_sem_espaco\n",
    "    else:\n",
    "        return [regex.sub(\" \",texto) for texto in textos]\n",
    "regex_espaco = re.compile(r\"( )+\")\n",
    "regex_linha = re.compile(r\"(\\n)\")\n",
    "regex_digito = re.compile(r\"\\d\")\n",
    "dados_es_tratado_v2 = substitui_por_espaco(dados_es_tratado,regex_linha)\n",
    "substitui_por_espaco(dados_es_tratado_v2,regex_espaco)"
   ]
  },
  {
   "cell_type": "code",
   "execution_count": 20,
   "id": "1b7ff676-e76e-4833-b082-62145b50bb29",
   "metadata": {
    "tags": []
   },
   "outputs": [
    {
     "data": {
      "text/plain": [
       "'Las sentencias dinámicas son sentencias SQL que se crean como cadenas de texto strings y en las que se insertanconcatenan valores obtenidos de alguna fuente normalmente proveniente del usuario lo que puede hacer que sean vulnerables a inyección SQL si no se sanean las entradas como por ejemplo        Eso es un ejemplo de una vulnerabilidad grave en la seguridad de una aplicación web o no porque si el usuario introdujese un valor como  nos encontraríamos con que la sentencia ejecutada sería        Y se eliminaría la tabla Usuarios con todos los datos contenidos en ella     Cómo puedo evitar que la inyección SQL ocurra en PHP  '"
      ]
     },
     "execution_count": 20,
     "metadata": {},
     "output_type": "execute_result"
    }
   ],
   "source": [
    "dados_es_tratado_v2"
   ]
  },
  {
   "cell_type": "code",
   "execution_count": 21,
   "id": "ed4bb68e-abca-4547-91a1-bbff2fd3c7d0",
   "metadata": {
    "tags": []
   },
   "outputs": [
    {
     "data": {
      "text/plain": [
       "'se eu fizer o hash de senhas antes de armazenálas em meu banco de dados é suficiente para evitar que elas sejam recuperadas por alguém estou falando apenas da recuperação diretamente do banco de dados e não qualquer outro tipo de ataque como força bruta na página de login da aplicação keylogger no cliente e criptoanálise rubberhose qualquer forma de hash não vai impedir esses ataques tenho preocupação em dificultar ou até impossibilitar a obtenção das senhas originais caso o banco de dados seja comprometido como dar maior garantia de segurança neste aspecto quais preocupações adicionais evitariam o acesso às senhas existem formas melhores de fazer esse hash '"
      ]
     },
     "execution_count": 21,
     "metadata": {},
     "output_type": "execute_result"
    }
   ],
   "source": [
    "#Questões de português pós remoções de pontuação, quebra de linha, e espaço duplicado, além de padronização em minúsculo\n",
    "quest_port_nopunct = remove_texto(dados_portugues.Pos_tratamento,regex_pontuacao)\n",
    "quest_port_minusculo = minusculo(quest_port_nopunct)\n",
    "quest_port_noline = substitui_por_espaco(quest_port_minusculo,regex_linha)\n",
    "quest_port_nospace= substitui_por_espaco(quest_port_noline,regex_espaco)\n",
    "quest_port_nodigit = remove_texto(quest_port_nospace,regex_digito)\n",
    "dados_portugues[\"tratados_v2\"] = quest_port_nodigit\n",
    "quest_port_nodigit[0]"
   ]
  },
  {
   "cell_type": "code",
   "execution_count": 22,
   "id": "ddfeda22-a5f6-4942-9c49-0b440f8d00b4",
   "metadata": {
    "tags": []
   },
   "outputs": [
    {
     "data": {
      "text/plain": [
       "'las sentencias dinámicas son sentencias sql que se crean como cadenas de texto strings y en las que se insertanconcatenan valores obtenidos de alguna fuente normalmente proveniente del usuario lo que puede hacer que sean vulnerables a inyección sql si no se sanean las entradas como por ejemplo eso es un ejemplo de una vulnerabilidad grave en la seguridad de una aplicación web o no porque si el usuario introdujese un valor como nos encontraríamos con que la sentencia ejecutada sería y se eliminaría la tabla usuarios con todos los datos contenidos en ella cómo puedo evitar que la inyección sql ocurra en php '"
      ]
     },
     "execution_count": 22,
     "metadata": {},
     "output_type": "execute_result"
    }
   ],
   "source": [
    "#Questões de espanhol pós remoções de pontuação, quebra de linha, e espaço duplicado, além de padronização em minúsculo\n",
    "quest_es_nopunct = remove_texto(dados_espanhol.Pos_tratamento,regex_pontuacao)\n",
    "quest_es_minusculo = minusculo(quest_es_nopunct)\n",
    "quest_es_noline = substitui_por_espaco(quest_es_minusculo,regex_linha)\n",
    "quest_es_nospace = substitui_por_espaco(quest_es_noline,regex_espaco)\n",
    "quest_es_nodigit = remove_texto(quest_es_nospace,regex_digito)\n",
    "dados_espanhol[\"tratados_v2\"] = quest_es_nodigit\n",
    "quest_es_nodigit[0]"
   ]
  },
  {
   "cell_type": "code",
   "execution_count": 23,
   "id": "871b051c-3e3d-4774-bb0e-735cea45543b",
   "metadata": {
    "tags": []
   },
   "outputs": [
    {
     "data": {
      "text/plain": [
       "'here is a piece of c code that seems very peculiar for some strange reason sorting the data miraculously makes the code almost six times faster without the code runs in  seconds with the sorted data the code runs in  seconds initially i thought this might be just a language or compiler anomaly so i tried it in java with a somewhat similar but less extreme result my first thought was that sorting brings the data into the cache but then i thought how silly that is because the array was just generated what is going on why is it faster to process a sorted array than an unsorted array the code is summing up some independent terms and the order should not matter '"
      ]
     },
     "execution_count": 23,
     "metadata": {},
     "output_type": "execute_result"
    }
   ],
   "source": [
    "#Questões de inglês pós remoções de pontuação, quebra de linha, e espaço duplicado, além de padronização em minúsculo\n",
    "quest_eng_nopunct = remove_texto(dados_ingles.Pos_tratamento,regex_pontuacao)\n",
    "quest_eng_minusculo = minusculo(quest_eng_nopunct)\n",
    "quest_eng_noline = substitui_por_espaco(quest_eng_minusculo,regex_linha)\n",
    "quest_eng_nospace = substitui_por_espaco(quest_eng_noline,regex_espaco)\n",
    "quest_eng_nodigit = remove_texto(quest_eng_nospace,regex_digito)\n",
    "dados_ingles[\"tratados_v2\"] = quest_eng_nodigit\n",
    "quest_eng_nodigit[0]"
   ]
  },
  {
   "cell_type": "code",
   "execution_count": 24,
   "id": "4e318e14-a89c-433c-b275-ada03647be25",
   "metadata": {
    "tags": []
   },
   "outputs": [
    {
     "name": "stdout",
     "output_type": "stream",
     "text": [
      "[('a', 'l'), ('l', 'u'), ('u', 'r'), ('r', 'a')]\n"
     ]
    }
   ],
   "source": [
    "#Utilizando bigramas para modelo de linguagem\n",
    "texto_bigrama = \"alura\"\n",
    "bigramas_texto = bigrams(texto_bigrama)\n",
    "print(list(bigramas_texto))"
   ]
  },
  {
   "cell_type": "code",
   "execution_count": 25,
   "id": "ba7df260-ea9e-450a-8ed9-13f5f865f117",
   "metadata": {
    "tags": []
   },
   "outputs": [
    {
     "name": "stdout",
     "output_type": "stream",
     "text": [
      "[('<s>', 'a'), ('a', 'l'), ('l', 'u'), ('u', 'r'), ('r', 'a'), ('a', '</s>')]\n"
     ]
    }
   ],
   "source": [
    "#Incluindo fakechar para manter as proporções de probabilidade do último e primeiro caractere equilibradas\n",
    "print(list(bigrams(pad_both_ends(texto_bigrama,n=2))))"
   ]
  },
  {
   "cell_type": "code",
   "execution_count": 26,
   "id": "b288edef-20ac-4964-8631-6199b4e387a9",
   "metadata": {
    "tags": []
   },
   "outputs": [],
   "source": [
    "dados_portugues[\"idioma\"] = \"port\"\n",
    "dados_espanhol[\"idioma\"] = \"esp\"\n",
    "dados_ingles[\"idioma\"] = \"ing\""
   ]
  },
  {
   "cell_type": "code",
   "execution_count": 27,
   "id": "24bc3afc-f573-409c-8b86-47a427d3b1ed",
   "metadata": {
    "tags": []
   },
   "outputs": [
    {
     "data": {
      "text/plain": [
       "249    estou trabalhando em um sistema muito grande u...\n",
       "433    estou estudando rest e desenvolvimento de web ...\n",
       "19     como saber se o código é de fácil leitura e ma...\n",
       "322    um heisenbug é um bug que muda seu comportamen...\n",
       "332    é mais vantajoso utilizar um tipo ansi ao invé...\n",
       "                             ...                        \n",
       "106    qual a diferença entre ienumerable iqueryable ...\n",
       "270    eu estudei java há bastante tempo e estou bem ...\n",
       "348    é comum um usuário não poder usar todos os ele...\n",
       "435    para um único script a ordem de cargaexecução ...\n",
       "102    é muito comum falarse sobre o padrão mvc model...\n",
       "Name: tratados_v2, Length: 400, dtype: object"
      ]
     },
     "execution_count": 27,
     "metadata": {},
     "output_type": "execute_result"
    }
   ],
   "source": [
    "port_treino,port_test = train_test_split(dados_portugues.tratados_v2,test_size=0.2,random_state=42)\n",
    "port_treino"
   ]
  },
  {
   "cell_type": "code",
   "execution_count": 38,
   "id": "171f8a73-cc06-444e-a6ae-7bdc389c4f7b",
   "metadata": {
    "tags": []
   },
   "outputs": [
    {
     "data": {
      "text/plain": [
       "249    we are working on an s version and this platfo...\n",
       "433    ive been using git for a while now and have re...\n",
       "19      can i use comments inside a json file if so how \n",
       "322    how do i determine if variable is or my code i...\n",
       "332    what is this idiom and when should it be used ...\n",
       "                             ...                        \n",
       "106     possible duplicate how to efficiently iterate...\n",
       "270    how can i display json in an easytoread for hu...\n",
       "348    is there a way to convert a string from upperc...\n",
       "435    i am working on a web application where i want...\n",
       "102    i recently forked a project and applied severa...\n",
       "Name: tratados_v2, Length: 400, dtype: object"
      ]
     },
     "execution_count": 38,
     "metadata": {},
     "output_type": "execute_result"
    }
   ],
   "source": [
    "ing_treino,ing_test = train_test_split(dados_ingles.tratados_v2,test_size=0.2,random_state=42)\n",
    "ing_treino"
   ]
  },
  {
   "cell_type": "code",
   "execution_count": 39,
   "id": "85656d34-bd2d-40a8-b026-5b57f8af08b9",
   "metadata": {
    "tags": []
   },
   "outputs": [
    {
     "data": {
      "text/plain": [
       "249    si tengo por ejemplo varios y le hago click a ...\n",
       "433    he agregado una ordenación de noticias por sus...\n",
       "19     recientemente mi sitio fue hackeado los atacan...\n",
       "322    pongamos que tengo un array bidimensional de e...\n",
       "332    al sacar los valores de una encontré que puedo...\n",
       "                             ...                        \n",
       "106    un compañero de trabajo creó un llamado quiero...\n",
       "270    tengo que procesar una gran cantidad de frases...\n",
       "348    uso un userscript para cambiar ciertas funcion...\n",
       "435    alguno me puede explicar cómo funciona el oper...\n",
       "102    quiero mostrar el teclado virtual softkeyboard...\n",
       "Name: tratados_v2, Length: 400, dtype: object"
      ]
     },
     "execution_count": 39,
     "metadata": {},
     "output_type": "execute_result"
    }
   ],
   "source": [
    "esp_treino,esp_test = train_test_split(dados_espanhol.tratados_v2,test_size=0.2,random_state=42)\n",
    "esp_treino"
   ]
  },
  {
   "cell_type": "code",
   "execution_count": 32,
   "id": "816694c3-316f-4e02-a371-16143bc8c37a",
   "metadata": {
    "tags": []
   },
   "outputs": [],
   "source": [
    "todas_as_palavras = \" \".join(port_treino)\n",
    "port_tokenizada = nltk.tokenize.WhitespaceTokenizer().tokenize(todas_as_palavras)\n",
    "port_treino_bigram,vocab = padded_everygram_pipeline(2,port_tokenizada)"
   ]
  },
  {
   "cell_type": "code",
   "execution_count": 33,
   "id": "f25f5a46-77bd-4848-bcba-fc1a4cc097f7",
   "metadata": {
    "tags": []
   },
   "outputs": [],
   "source": [
    "#Modelo\n",
    "modelo_port = MLE(2)\n",
    "modelo_port.fit(port_treino_bigram,vocab)"
   ]
  },
  {
   "cell_type": "code",
   "execution_count": 34,
   "id": "d4abb12b-1a3e-4673-90fd-6d5514b3be25",
   "metadata": {
    "tags": []
   },
   "outputs": [
    {
     "data": {
      "text/plain": [
       "['e', '</s>', '<s>', 'd']"
      ]
     },
     "execution_count": 34,
     "metadata": {},
     "output_type": "execute_result"
    }
   ],
   "source": [
    "#Gerando palavras(caractere por caractere) com o modelo treinado com dados em português e cuja inicial da palavra sejas m\n",
    "modelo_port.generate(4,\"m\",random_seed=42)"
   ]
  },
  {
   "cell_type": "code",
   "execution_count": 35,
   "id": "007802df-af33-4d64-b63d-2f638497b12a",
   "metadata": {
    "tags": []
   },
   "outputs": [
    {
     "data": {
      "text/plain": [
       "dict_items([('</s>', 2693), ('a', 2096), ('u', 228), ('v', 23), ('p', 682), ('e', 1469), ('o', 854), ('s', 12), ('b', 147), ('i', 300), ('í', 16), ('g', 4), ('é', 70), ('á', 43), ('y', 14), ('ó', 39), ('l', 22), ('m', 26), ('ã', 3), ('â', 10), ('d', 1), ('ú', 2), ('w', 1), ('f', 1), ('q', 5)])"
      ]
     },
     "execution_count": 35,
     "metadata": {},
     "output_type": "execute_result"
    }
   ],
   "source": [
    "#Frequência de quais caracteres são os primeiros a seguir o caractere m\n",
    "modelo_port.counts[[\"m\"]].items()"
   ]
  },
  {
   "cell_type": "code",
   "execution_count": 44,
   "id": "b6fcb8fe-807e-47c2-911b-9a791dd9ea42",
   "metadata": {
    "tags": []
   },
   "outputs": [
    {
     "data": {
      "text/plain": [
       "[[('<s>', 'b'), ('b', 'o'), ('o', 'm'), ('m', '</s>')],\n",
       " [('<s>', 'd'), ('d', 'i'), ('i', 'a'), ('a', '</s>')]]"
      ]
     },
     "execution_count": 44,
     "metadata": {},
     "output_type": "execute_result"
    }
   ],
   "source": [
    "#Calculando a perplexidade(medida de evaluation do modelo) \n",
    "frase_teste = \"bom dia\"\n",
    "frase_teste_tokenizada = nltk.tokenize.WhitespaceTokenizer().tokenize(frase_teste)\n",
    "frase_teste_fakechar = [list(pad_both_ends(texto,2)) for texto in frase_teste_tokenizada]\n",
    "frase_teste_bigrama = [list(bigrams(texto)) for texto in frase_teste_fakechar]\n",
    "frase_teste_bigrama"
   ]
  },
  {
   "cell_type": "code",
   "execution_count": 167,
   "id": "a4d1e38a-db4a-4e62-9dbd-91957c9a09b9",
   "metadata": {
    "tags": []
   },
   "outputs": [
    {
     "data": {
      "text/plain": [
       "7.867530654448737"
      ]
     },
     "execution_count": 167,
     "metadata": {},
     "output_type": "execute_result"
    }
   ],
   "source": [
    "modelo_port.perplexity(frase_teste_bigrama[0])"
   ]
  },
  {
   "cell_type": "code",
   "execution_count": 42,
   "id": "9fe17f6d-84bb-43ae-ad3c-e12ac9dff4c5",
   "metadata": {},
   "outputs": [],
   "source": [
    "#Definindo função para treinar o modelo\n",
    "def treina_modelo_mle(lista_texto):\n",
    "    todas_as_palavras = \" \".join(lista_texto)\n",
    "    palavras_tokenizadas = nltk.tokenize.WhitespaceTokenizer().tokenize(todas_as_palavras)\n",
    "    bigram, vocab = padded_everygram_pipeline(2,palavras_tokenizadas)\n",
    "    modelo = MLE(2)\n",
    "    modelo.fit(bigram,vocab)\n",
    "    return modelo"
   ]
  },
  {
   "cell_type": "code",
   "execution_count": 63,
   "id": "5e401a8e-4599-4a97-8abe-b59381b14da9",
   "metadata": {
    "tags": []
   },
   "outputs": [],
   "source": [
    "#Definindo função para calcular perplexidade\n",
    "def calcula_perplexidade(texto,modelo):\n",
    "    texto_tokenizado = nltk.tokenize.WhitespaceTokenizer().tokenize(texto)\n",
    "    texto_fakechar = [list(pad_both_ends(texto,2)) for texto in texto_tokenizado]\n",
    "    texto_bigram = [list(bigrams(texto)) for texto in texto_fakechar]\n",
    "    resultado = [modelo.perplexity(texto) for texto in texto_bigram]\n",
    "    return sum(resultado)"
   ]
  },
  {
   "cell_type": "code",
   "execution_count": 45,
   "id": "ba069726-672f-4cbb-af0c-d68f551dd210",
   "metadata": {
    "tags": []
   },
   "outputs": [
    {
     "data": {
      "text/plain": [
       "22.70732882059757"
      ]
     },
     "execution_count": 45,
     "metadata": {},
     "output_type": "execute_result"
    }
   ],
   "source": [
    "calcula_perplexidade(frase_teste,modelo_port)"
   ]
  },
  {
   "cell_type": "code",
   "execution_count": 51,
   "id": "54c96664-4645-417b-9ed6-e8c030f17a25",
   "metadata": {
    "tags": []
   },
   "outputs": [],
   "source": [
    "modelo_ing = treina_modelo_mle(ing_treino)\n",
    "modelo_esp = treina_modelo_mle(esp_treino)\n",
    "modelo_port = treina_modelo_mle(port_treino)"
   ]
  },
  {
   "cell_type": "code",
   "execution_count": 84,
   "id": "a79b30fa-a795-43d8-9fd6-9c4b01a724e2",
   "metadata": {
    "tags": []
   },
   "outputs": [
    {
     "data": {
      "text/plain": [
       "inf"
      ]
     },
     "execution_count": 84,
     "metadata": {},
     "output_type": "execute_result"
    }
   ],
   "source": [
    "calcula_perplexidade(port_test.iloc[0],modelo_port)"
   ]
  },
  {
   "cell_type": "code",
   "execution_count": 75,
   "id": "d17b02fc-e8d2-4d73-83be-8d50613dcd06",
   "metadata": {
    "tags": []
   },
   "outputs": [
    {
     "data": {
      "text/plain": [
       "465.7445725482562"
      ]
     },
     "execution_count": 75,
     "metadata": {},
     "output_type": "execute_result"
    }
   ],
   "source": [
    "calcula_perplexidade(ing_test.iloc[3],modelo_ing)"
   ]
  },
  {
   "cell_type": "code",
   "execution_count": 72,
   "id": "72f83443-ae9d-4b1f-88e2-388ae0381e5c",
   "metadata": {
    "tags": []
   },
   "outputs": [
    {
     "data": {
      "text/plain": [
       "'yesterday i was pairing the socks from the clean laundry and figured out the way i was doing it is not very efficient i was doing a naive searchnbsp picking one sock and iterating the pile in order to find its pair this requires iterating over n n n socks on average as a computer scientist i was thinking what i could do sorting according to sizecolor of course came to mind to achieve an onlogn solution hashing or other notinplace solutions are not an option because i am not able to duplicate my socks though it could be nice if i could so the question is basically given a pile of pairs of socks containing elements assume each sock has exactly one matching pair what is the best way to pair them up efficiently with up to logarithmic extra space i believe i can remember that amount of info if needed i will appreciate an answer that addresses the following aspects a general theoretical solution for a huge number of socks the actual number of socks is not that large i dont believe my spouse and i have more than  pairs and it is fairly easy to distinguish between my socks and hers can this be used as well is it equivalent to the element distinctness problem '"
      ]
     },
     "execution_count": 72,
     "metadata": {},
     "output_type": "execute_result"
    }
   ],
   "source": [
    "ing_test.iloc[1]"
   ]
  },
  {
   "cell_type": "code",
   "execution_count": 85,
   "id": "834539d7-6599-49ec-8f62-8d8fba6d3695",
   "metadata": {
    "tags": []
   },
   "outputs": [
    {
     "data": {
      "text/plain": [
       "'quais as principais diferenças entre as engines e e qual a situação mais apropriada para o uso de cada sei que não suporta mas suporta enquanto no é o contrário pelo menos até a versão  do mysql por que um sgbdr rdbms tem como padrão uma engine que não oferece meios para relacionar as tabelas '"
      ]
     },
     "execution_count": 85,
     "metadata": {},
     "output_type": "execute_result"
    }
   ],
   "source": [
    "port_test.iloc[0]"
   ]
  },
  {
   "cell_type": "code",
   "execution_count": 88,
   "id": "c04d626a-053b-4071-94c5-d8de620cef86",
   "metadata": {
    "tags": []
   },
   "outputs": [],
   "source": [
    "#Modelo de estimativa de Likelihood suavizado pela transformada de Laplace para evitar a perplexidade ser igual a infinito\n",
    "def treina_modelo_Laplace(lista_texto):\n",
    "    todas_as_palavras = \" \".join(lista_texto)\n",
    "    palavras_tokenizadas = nltk.tokenize.WhitespaceTokenizer().tokenize(todas_as_palavras)\n",
    "    bigram, vocab = padded_everygram_pipeline(2,palavras_tokenizadas)\n",
    "    modelo = Laplace(2)\n",
    "    modelo.fit(bigram,vocab)\n",
    "    return modelo"
   ]
  },
  {
   "cell_type": "code",
   "execution_count": 90,
   "id": "9a258ad9-4141-4dbd-be85-4181be4e2250",
   "metadata": {
    "tags": []
   },
   "outputs": [
    {
     "data": {
      "text/plain": [
       "556.1304349437955"
      ]
     },
     "execution_count": 90,
     "metadata": {},
     "output_type": "execute_result"
    }
   ],
   "source": [
    "port_laplace = treina_modelo_Laplace(port_treino)\n",
    "calcula_perplexidade(port_test.iloc[0],port_laplace)"
   ]
  },
  {
   "cell_type": "code",
   "execution_count": 91,
   "id": "f1458128-5e2c-45a4-991c-427d54149769",
   "metadata": {
    "tags": []
   },
   "outputs": [
    {
     "data": {
      "text/plain": [
       "180.42718559493858"
      ]
     },
     "execution_count": 91,
     "metadata": {},
     "output_type": "execute_result"
    }
   ],
   "source": [
    "ing_laplace = treina_modelo_Laplace(ing_treino)\n",
    "calcula_perplexidade(ing_test.iloc[0],ing_laplace)"
   ]
  },
  {
   "cell_type": "code",
   "execution_count": 93,
   "id": "1fff2fea-8d44-4f0f-a28b-cc9aac9b0a05",
   "metadata": {
    "tags": []
   },
   "outputs": [
    {
     "data": {
      "text/plain": [
       "405.7119034147504"
      ]
     },
     "execution_count": 93,
     "metadata": {},
     "output_type": "execute_result"
    }
   ],
   "source": [
    "esp_laplace = treina_modelo_Laplace(esp_treino)\n",
    "calcula_perplexidade(esp_test.iloc[0],esp_laplace)"
   ]
  },
  {
   "cell_type": "code",
   "execution_count": 94,
   "id": "b6383a02-e75f-45d2-8820-adc735ba905f",
   "metadata": {
    "tags": []
   },
   "outputs": [],
   "source": [
    "def atribui_idioma(lista_texto):\n",
    "    idioma = []\n",
    "    for i in lista_texto:\n",
    "        perplexidade_pt = calcula_perplexidade(i,port_laplace)\n",
    "        perplexidade_en = calcula_perplexidade(i,ing_laplace)\n",
    "        perplexidade_esp = calcula_perplexidade(i,esp_laplace)\n",
    "        if perplexidade_pt < perplexidade_en and perplexidade_pt < perplexidade_esp:\n",
    "            idioma.append(\"portugues\")\n",
    "        elif perplexidade_en < perplexidade_pt and perplexidade_en < perplexidade_esp:\n",
    "            idioma.append(\"ingles\")\n",
    "        else:\n",
    "            idioma.append(\"espanhol\")\n",
    "    return idioma\n"
   ]
  },
  {
   "cell_type": "code",
   "execution_count": 103,
   "id": "b6189a15-923a-4edc-9276-5e34823460b6",
   "metadata": {
    "tags": []
   },
   "outputs": [
    {
     "name": "stdout",
     "output_type": "stream",
     "text": [
      "A taxa de acerto para o português é de 1.0\n",
      "A taxa de acerto para o inglês é de 1.0\n",
      "A taxa de acerto para o espanhol é de 0.97\n"
     ]
    }
   ],
   "source": [
    "#Calculando a taxa de acerto do tradutor com os splits de teste de cada idioma\n",
    "taxa_pt = (atribui_idioma(port_test).count(\"portugues\"))/len(atribui_idioma(port_test))\n",
    "print(f\"A taxa de acerto para o português é de {taxa_pt}\")\n",
    "taxa_en = (atribui_idioma(ing_test).count(\"ingles\"))/len(atribui_idioma(ing_test))\n",
    "print(f\"A taxa de acerto para o inglês é de {taxa_en}\")\n",
    "taxa_esp = (atribui_idioma(esp_test).count(\"espanhol\"))/len(atribui_idioma(esp_test))\n",
    "print(f\"A taxa de acerto para o espanhol é de {taxa_esp}\")"
   ]
  },
  {
   "cell_type": "code",
   "execution_count": null,
   "id": "1e341270-b63f-489b-bc2d-12479228a592",
   "metadata": {},
   "outputs": [],
   "source": []
  },
  {
   "cell_type": "code",
   "execution_count": null,
   "id": "e790150e-099a-4d96-86f5-23cf6cc3f9b6",
   "metadata": {},
   "outputs": [],
   "source": []
  }
 ],
 "metadata": {
  "kernelspec": {
   "display_name": "Python 3 (ipykernel)",
   "language": "python",
   "name": "python3"
  },
  "language_info": {
   "codemirror_mode": {
    "name": "ipython",
    "version": 3
   },
   "file_extension": ".py",
   "mimetype": "text/x-python",
   "name": "python",
   "nbconvert_exporter": "python",
   "pygments_lexer": "ipython3",
   "version": "3.11.3"
  }
 },
 "nbformat": 4,
 "nbformat_minor": 5
}
